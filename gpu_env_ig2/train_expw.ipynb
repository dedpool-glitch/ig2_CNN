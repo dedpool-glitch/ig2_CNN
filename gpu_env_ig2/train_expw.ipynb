{
 "cells": [
  {
   "cell_type": "code",
   "execution_count": 12,
   "id": "f33846bb",
   "metadata": {},
   "outputs": [],
   "source": [
    "import torch\n",
    "import torch.nn as nn\n",
    "import torch.optim as optim\n",
    "from torchvision import transforms\n",
    "from emonet import EmoNet,Modified_EmoNet\n",
    "from torch.utils.data import DataLoader\n",
    "import os\n",
    "import re\n",
    "from torch.utils.data import Dataset\n",
    "from PIL import Image\n",
    "import pandas as pd\n",
    "import ast\n",
    "from sklearn.model_selection import train_test_split\n",
    "import random\n",
    "random.seed(42)\n",
    "import time\n",
    "from tqdm import tqdm"
   ]
  },
  {
   "cell_type": "code",
   "execution_count": 13,
   "id": "f5f96420",
   "metadata": {},
   "outputs": [
    {
     "name": "stdout",
     "output_type": "stream",
     "text": [
      "Class distribution:\n",
      " emotion\n",
      "amazed            3790\n",
      "awe               3499\n",
      "astound           1797\n",
      "crying            1209\n",
      "heartbroken       1081\n",
      "angry             1070\n",
      "fighting          1044\n",
      "hostile            883\n",
      "annoyed            797\n",
      "fierce             761\n",
      "mad                721\n",
      "distressed         703\n",
      "frightened         494\n",
      "distaste           250\n",
      "boring             240\n",
      "disgust            238\n",
      "anxious            224\n",
      "expressionless     114\n",
      "surprised           87\n",
      "shocked             80\n",
      "afraid              56\n",
      "unhappy             39\n",
      "ecstatic            32\n",
      "excited             31\n",
      "serious             17\n",
      "horrified           15\n",
      "fear                14\n",
      "happy                3\n",
      "joyous               1\n",
      "Name: count, dtype: int64\n"
     ]
    }
   ],
   "source": [
    "expw_df = pd.read_csv(\"D:\\Integrated_gap_gradients\\ig2_CNN\\gpu_env_ig2\\gpu2_env\\expw_annotated.csv\")\n",
    "print(\"Class distribution:\\n\", expw_df['emotion'].value_counts())"
   ]
  },
  {
   "cell_type": "code",
   "execution_count": 14,
   "id": "2998797a",
   "metadata": {},
   "outputs": [
    {
     "name": "stdout",
     "output_type": "stream",
     "text": [
      "['afraid' 'amazed' 'angry' 'annoyed' 'anxious' 'astound' 'awe' 'boring'\n",
      " 'crying' 'disgust' 'distaste' 'distressed' 'ecstatic' 'excited'\n",
      " 'expressionless' 'fear' 'fierce' 'fighting' 'frightened' 'happy'\n",
      " 'heartbroken' 'horrified' 'hostile' 'joyous' 'mad' 'serious' 'shocked'\n",
      " 'surprised' 'unhappy']\n"
     ]
    }
   ],
   "source": [
    "print(expw_df['emotion'].unique())"
   ]
  },
  {
   "cell_type": "code",
   "execution_count": 15,
   "id": "d6b30f69",
   "metadata": {},
   "outputs": [],
   "source": [
    "expw_to_emonet = {\n",
    "    'afraid': 4,\n",
    "    'amazed': 3,\n",
    "    'angry': 6,\n",
    "    'annoyed': 6,\n",
    "    'anxious': 4,\n",
    "    'astound': 3,\n",
    "    'awe': 3,\n",
    "    'boring': 0,\n",
    "    'crying': 2,\n",
    "    'disgust': 5,\n",
    "    'distaste': 5,\n",
    "    'distressed': 2,\n",
    "    'ecstatic': 1,\n",
    "    'excited': 1,\n",
    "    'expressionless': 0,\n",
    "    'fear': 4,\n",
    "    'fierce': 6,\n",
    "    'fighting': 6,\n",
    "    'frightened': 4,\n",
    "    'happy': 1,\n",
    "    'heartbroken': 2,\n",
    "    'horrified': 4,\n",
    "    'hostile': 6,\n",
    "    'joyous': 1,\n",
    "    'mad': 6,\n",
    "    'serious': 0,\n",
    "    'shocked': 3,\n",
    "    'surprised': 3,\n",
    "    'unhappy': 2\n",
    "}\n",
    "\n",
    "expw_df['label'] = expw_df['emotion'].map(expw_to_emonet)\n",
    "expw_df = expw_df.dropna(subset=['label']).reset_index(drop=True)\n",
    "expw_df['label'] = expw_df['label'].astype(int)"
   ]
  },
  {
   "cell_type": "code",
   "execution_count": 16,
   "id": "4eb8dcc7",
   "metadata": {},
   "outputs": [
    {
     "data": {
      "text/html": [
       "<div>\n",
       "<style scoped>\n",
       "    .dataframe tbody tr th:only-of-type {\n",
       "        vertical-align: middle;\n",
       "    }\n",
       "\n",
       "    .dataframe tbody tr th {\n",
       "        vertical-align: top;\n",
       "    }\n",
       "\n",
       "    .dataframe thead th {\n",
       "        text-align: right;\n",
       "    }\n",
       "</style>\n",
       "<table border=\"1\" class=\"dataframe\">\n",
       "  <thead>\n",
       "    <tr style=\"text-align: right;\">\n",
       "      <th></th>\n",
       "      <th>filename</th>\n",
       "      <th>emotion</th>\n",
       "      <th>race</th>\n",
       "      <th>gender</th>\n",
       "      <th>label</th>\n",
       "    </tr>\n",
       "  </thead>\n",
       "  <tbody>\n",
       "    <tr>\n",
       "      <th>0</th>\n",
       "      <td>D:\\Integrated_gap_gradients\\ig2_CNN\\gpu_env_ig...</td>\n",
       "      <td>afraid</td>\n",
       "      <td>black</td>\n",
       "      <td>{'Woman': np.float32(0.11790757), 'Man': np.fl...</td>\n",
       "      <td>4</td>\n",
       "    </tr>\n",
       "    <tr>\n",
       "      <th>1</th>\n",
       "      <td>D:\\Integrated_gap_gradients\\ig2_CNN\\gpu_env_ig...</td>\n",
       "      <td>afraid</td>\n",
       "      <td>black</td>\n",
       "      <td>{'Woman': np.float32(0.24821858), 'Man': np.fl...</td>\n",
       "      <td>4</td>\n",
       "    </tr>\n",
       "    <tr>\n",
       "      <th>2</th>\n",
       "      <td>D:\\Integrated_gap_gradients\\ig2_CNN\\gpu_env_ig...</td>\n",
       "      <td>afraid</td>\n",
       "      <td>asian</td>\n",
       "      <td>{'Woman': np.float32(4.0783873), 'Man': np.flo...</td>\n",
       "      <td>4</td>\n",
       "    </tr>\n",
       "    <tr>\n",
       "      <th>3</th>\n",
       "      <td>D:\\Integrated_gap_gradients\\ig2_CNN\\gpu_env_ig...</td>\n",
       "      <td>afraid</td>\n",
       "      <td>asian</td>\n",
       "      <td>{'Woman': np.float32(99.97097), 'Man': np.floa...</td>\n",
       "      <td>4</td>\n",
       "    </tr>\n",
       "    <tr>\n",
       "      <th>4</th>\n",
       "      <td>D:\\Integrated_gap_gradients\\ig2_CNN\\gpu_env_ig...</td>\n",
       "      <td>afraid</td>\n",
       "      <td>asian</td>\n",
       "      <td>{'Woman': np.float32(99.9778), 'Man': np.float...</td>\n",
       "      <td>4</td>\n",
       "    </tr>\n",
       "  </tbody>\n",
       "</table>\n",
       "</div>"
      ],
      "text/plain": [
       "                                            filename emotion   race  \\\n",
       "0  D:\\Integrated_gap_gradients\\ig2_CNN\\gpu_env_ig...  afraid  black   \n",
       "1  D:\\Integrated_gap_gradients\\ig2_CNN\\gpu_env_ig...  afraid  black   \n",
       "2  D:\\Integrated_gap_gradients\\ig2_CNN\\gpu_env_ig...  afraid  asian   \n",
       "3  D:\\Integrated_gap_gradients\\ig2_CNN\\gpu_env_ig...  afraid  asian   \n",
       "4  D:\\Integrated_gap_gradients\\ig2_CNN\\gpu_env_ig...  afraid  asian   \n",
       "\n",
       "                                              gender  label  \n",
       "0  {'Woman': np.float32(0.11790757), 'Man': np.fl...      4  \n",
       "1  {'Woman': np.float32(0.24821858), 'Man': np.fl...      4  \n",
       "2  {'Woman': np.float32(4.0783873), 'Man': np.flo...      4  \n",
       "3  {'Woman': np.float32(99.97097), 'Man': np.floa...      4  \n",
       "4  {'Woman': np.float32(99.9778), 'Man': np.float...      4  "
      ]
     },
     "execution_count": 16,
     "metadata": {},
     "output_type": "execute_result"
    }
   ],
   "source": [
    "expw_df.head()"
   ]
  },
  {
   "cell_type": "code",
   "execution_count": 17,
   "id": "ed67b5ac",
   "metadata": {},
   "outputs": [
    {
     "name": "stdout",
     "output_type": "stream",
     "text": [
      "Class distribution:\n",
      " label\n",
      "3    9253\n",
      "6    5276\n",
      "2    3032\n",
      "4     803\n",
      "5     488\n",
      "0     371\n",
      "1      67\n",
      "Name: count, dtype: int64\n"
     ]
    }
   ],
   "source": [
    "print(\"Class distribution:\\n\", expw_df['label'].value_counts())"
   ]
  },
  {
   "cell_type": "code",
   "execution_count": 18,
   "id": "7d87dd38",
   "metadata": {},
   "outputs": [],
   "source": [
    "import re\n",
    "import ast\n",
    "\n",
    "def clean_and_parse_gender(raw):\n",
    "    if isinstance(raw, str):\n",
    "        cleaned = re.sub(r\"np\\.float32\\((.*?)\\)\", r\"\\1\", raw)\n",
    "        return ast.literal_eval(cleaned)\n",
    "\n",
    "# Apply it\n",
    "expw_df['gender_dict'] = expw_df['gender'].apply(clean_and_parse_gender)\n",
    "\n",
    "\n",
    "# Extract dominant gender\n",
    "expw_df['dominant_gender'] = expw_df['gender_dict'].apply(lambda d: max(d, key=d.get))\n"
   ]
  },
  {
   "cell_type": "code",
   "execution_count": 19,
   "id": "13024812",
   "metadata": {},
   "outputs": [
    {
     "data": {
      "text/plain": [
       "0          Man\n",
       "1          Man\n",
       "2          Man\n",
       "3        Woman\n",
       "4        Woman\n",
       "         ...  \n",
       "19285      Man\n",
       "19286      Man\n",
       "19287      Man\n",
       "19288      Man\n",
       "19289      Man\n",
       "Name: dominant_gender, Length: 19290, dtype: object"
      ]
     },
     "execution_count": 19,
     "metadata": {},
     "output_type": "execute_result"
    }
   ],
   "source": [
    "expw_df['dominant_gender']"
   ]
  },
  {
   "cell_type": "code",
   "execution_count": 20,
   "id": "6f4ca5b9",
   "metadata": {},
   "outputs": [
    {
     "data": {
      "text/html": [
       "<div>\n",
       "<style scoped>\n",
       "    .dataframe tbody tr th:only-of-type {\n",
       "        vertical-align: middle;\n",
       "    }\n",
       "\n",
       "    .dataframe tbody tr th {\n",
       "        vertical-align: top;\n",
       "    }\n",
       "\n",
       "    .dataframe thead th {\n",
       "        text-align: right;\n",
       "    }\n",
       "</style>\n",
       "<table border=\"1\" class=\"dataframe\">\n",
       "  <thead>\n",
       "    <tr style=\"text-align: right;\">\n",
       "      <th></th>\n",
       "      <th>filename</th>\n",
       "      <th>emotion</th>\n",
       "      <th>race</th>\n",
       "      <th>gender</th>\n",
       "      <th>label</th>\n",
       "      <th>gender_dict</th>\n",
       "      <th>dominant_gender</th>\n",
       "    </tr>\n",
       "  </thead>\n",
       "  <tbody>\n",
       "    <tr>\n",
       "      <th>0</th>\n",
       "      <td>D:\\Integrated_gap_gradients\\ig2_CNN\\gpu_env_ig...</td>\n",
       "      <td>afraid</td>\n",
       "      <td>black</td>\n",
       "      <td>{'Woman': np.float32(0.11790757), 'Man': np.fl...</td>\n",
       "      <td>4</td>\n",
       "      <td>{'Woman': 0.11790757, 'Man': 99.882095}</td>\n",
       "      <td>Man</td>\n",
       "    </tr>\n",
       "    <tr>\n",
       "      <th>1</th>\n",
       "      <td>D:\\Integrated_gap_gradients\\ig2_CNN\\gpu_env_ig...</td>\n",
       "      <td>afraid</td>\n",
       "      <td>black</td>\n",
       "      <td>{'Woman': np.float32(0.24821858), 'Man': np.fl...</td>\n",
       "      <td>4</td>\n",
       "      <td>{'Woman': 0.24821858, 'Man': 99.751785}</td>\n",
       "      <td>Man</td>\n",
       "    </tr>\n",
       "    <tr>\n",
       "      <th>2</th>\n",
       "      <td>D:\\Integrated_gap_gradients\\ig2_CNN\\gpu_env_ig...</td>\n",
       "      <td>afraid</td>\n",
       "      <td>asian</td>\n",
       "      <td>{'Woman': np.float32(4.0783873), 'Man': np.flo...</td>\n",
       "      <td>4</td>\n",
       "      <td>{'Woman': 4.0783873, 'Man': 95.921616}</td>\n",
       "      <td>Man</td>\n",
       "    </tr>\n",
       "    <tr>\n",
       "      <th>3</th>\n",
       "      <td>D:\\Integrated_gap_gradients\\ig2_CNN\\gpu_env_ig...</td>\n",
       "      <td>afraid</td>\n",
       "      <td>asian</td>\n",
       "      <td>{'Woman': np.float32(99.97097), 'Man': np.floa...</td>\n",
       "      <td>4</td>\n",
       "      <td>{'Woman': 99.97097, 'Man': 0.029033655}</td>\n",
       "      <td>Woman</td>\n",
       "    </tr>\n",
       "    <tr>\n",
       "      <th>4</th>\n",
       "      <td>D:\\Integrated_gap_gradients\\ig2_CNN\\gpu_env_ig...</td>\n",
       "      <td>afraid</td>\n",
       "      <td>asian</td>\n",
       "      <td>{'Woman': np.float32(99.9778), 'Man': np.float...</td>\n",
       "      <td>4</td>\n",
       "      <td>{'Woman': 99.9778, 'Man': 0.022206737}</td>\n",
       "      <td>Woman</td>\n",
       "    </tr>\n",
       "  </tbody>\n",
       "</table>\n",
       "</div>"
      ],
      "text/plain": [
       "                                            filename emotion   race  \\\n",
       "0  D:\\Integrated_gap_gradients\\ig2_CNN\\gpu_env_ig...  afraid  black   \n",
       "1  D:\\Integrated_gap_gradients\\ig2_CNN\\gpu_env_ig...  afraid  black   \n",
       "2  D:\\Integrated_gap_gradients\\ig2_CNN\\gpu_env_ig...  afraid  asian   \n",
       "3  D:\\Integrated_gap_gradients\\ig2_CNN\\gpu_env_ig...  afraid  asian   \n",
       "4  D:\\Integrated_gap_gradients\\ig2_CNN\\gpu_env_ig...  afraid  asian   \n",
       "\n",
       "                                              gender  label  \\\n",
       "0  {'Woman': np.float32(0.11790757), 'Man': np.fl...      4   \n",
       "1  {'Woman': np.float32(0.24821858), 'Man': np.fl...      4   \n",
       "2  {'Woman': np.float32(4.0783873), 'Man': np.flo...      4   \n",
       "3  {'Woman': np.float32(99.97097), 'Man': np.floa...      4   \n",
       "4  {'Woman': np.float32(99.9778), 'Man': np.float...      4   \n",
       "\n",
       "                               gender_dict dominant_gender  \n",
       "0  {'Woman': 0.11790757, 'Man': 99.882095}             Man  \n",
       "1  {'Woman': 0.24821858, 'Man': 99.751785}             Man  \n",
       "2   {'Woman': 4.0783873, 'Man': 95.921616}             Man  \n",
       "3  {'Woman': 99.97097, 'Man': 0.029033655}           Woman  \n",
       "4   {'Woman': 99.9778, 'Man': 0.022206737}           Woman  "
      ]
     },
     "execution_count": 20,
     "metadata": {},
     "output_type": "execute_result"
    }
   ],
   "source": [
    "expw_df.head()"
   ]
  },
  {
   "cell_type": "code",
   "execution_count": 21,
   "id": "71588876",
   "metadata": {},
   "outputs": [],
   "source": [
    "expw_df = expw_df.drop(columns=['gender', 'gender_dict'])\n",
    "expw_df = expw_df.rename(columns={'dominant_gender': 'gender'})"
   ]
  },
  {
   "cell_type": "code",
   "execution_count": 22,
   "id": "140e26e8",
   "metadata": {},
   "outputs": [
    {
     "name": "stdout",
     "output_type": "stream",
     "text": [
      "<class 'pandas.core.frame.DataFrame'>\n",
      "RangeIndex: 19290 entries, 0 to 19289\n",
      "Data columns (total 5 columns):\n",
      " #   Column    Non-Null Count  Dtype \n",
      "---  ------    --------------  ----- \n",
      " 0   filename  19290 non-null  object\n",
      " 1   emotion   19290 non-null  object\n",
      " 2   race      19290 non-null  object\n",
      " 3   label     19290 non-null  int32 \n",
      " 4   gender    19290 non-null  object\n",
      "dtypes: int32(1), object(4)\n",
      "memory usage: 678.3+ KB\n"
     ]
    }
   ],
   "source": [
    "expw_df.info()"
   ]
  },
  {
   "cell_type": "code",
   "execution_count": 23,
   "id": "1a1afa55",
   "metadata": {},
   "outputs": [],
   "source": [
    "expw_df['gender'] = expw_df['gender'].replace({'Man': 'male', 'Woman': 'female'})"
   ]
  },
  {
   "cell_type": "code",
   "execution_count": 24,
   "id": "f922b398",
   "metadata": {},
   "outputs": [],
   "source": [
    "keep_labels = [0, 1, 2, 4, 5, 6]\n",
    "expw_df = expw_df[expw_df['label'].isin(keep_labels)].reset_index(drop=True)"
   ]
  },
  {
   "cell_type": "code",
   "execution_count": 25,
   "id": "2e9951b5",
   "metadata": {},
   "outputs": [
    {
     "name": "stdout",
     "output_type": "stream",
     "text": [
      "Class distribution:\n",
      " label\n",
      "6    5276\n",
      "2    3032\n",
      "4     803\n",
      "5     488\n",
      "0     371\n",
      "1      67\n",
      "Name: count, dtype: int64\n"
     ]
    }
   ],
   "source": [
    "print(\"Class distribution:\\n\", expw_df['label'].value_counts())"
   ]
  },
  {
   "cell_type": "code",
   "execution_count": 26,
   "id": "a1c3f49a",
   "metadata": {},
   "outputs": [],
   "source": [
    "#creating pytorch dataset for expw annotated dataset\n",
    "class ExpWAnnotatedDataset(Dataset):\n",
    "    def __init__(self, dataframe, transform=None):\n",
    "        self.df = dataframe.reset_index(drop=True)\n",
    "        self.transform = transform\n",
    "\n",
    "    def __len__(self):\n",
    "        return len(self.df)\n",
    "\n",
    "    def __getitem__(self, idx):\n",
    "        img_path = self.df.loc[idx, 'filename']\n",
    "        label = self.df.loc[idx, 'label']\n",
    "        race = self.df.loc[idx, 'race']\n",
    "        gender = self.df.loc[idx, 'gender']\n",
    "\n",
    "        image = Image.open(img_path).convert('RGB')\n",
    "        if self.transform:\n",
    "            image = self.transform(image)\n",
    "\n",
    "        return image, label, race, gender, img_path\n"
   ]
  },
  {
   "cell_type": "code",
   "execution_count": 27,
   "id": "49ee08d1",
   "metadata": {},
   "outputs": [],
   "source": [
    "train_df, val_df = train_test_split(expw_df, test_size=0.3, stratify=expw_df['label'], random_state=42)\n",
    "\n",
    "# Define image transforms\n",
    "image_transform = transforms.Compose([\n",
    "    transforms.Resize((256, 256)),\n",
    "    transforms.ToTensor(),\n",
    "    transforms.Normalize(mean=[0.5], std=[0.5])\n",
    "])\n",
    "\n",
    "# Create dataset instances\n",
    "train_dataset = ExpWAnnotatedDataset(train_df, transform=image_transform)\n",
    "val_dataset = ExpWAnnotatedDataset(val_df, transform=image_transform)\n",
    "\n",
    "# Create dataloaders\n",
    "train_loader = DataLoader(train_dataset, batch_size=32, shuffle=True, pin_memory=True)\n",
    "val_loader = DataLoader(val_dataset, batch_size=32, shuffle=False,pin_memory=True)"
   ]
  },
  {
   "cell_type": "code",
   "execution_count": 28,
   "id": "bc2989ce",
   "metadata": {},
   "outputs": [
    {
     "name": "stdout",
     "output_type": "stream",
     "text": [
      "cuda\n"
     ]
    }
   ],
   "source": [
    "#load model\n",
    "device = torch.device(\"cuda\" if torch.cuda.is_available() else \"cpu\")\n",
    "model = EmoNet(n_expression=8)\n",
    "model.load_state_dict(torch.load(\"D:\\Integrated_gap_gradients\\ig2_CNN\\emonet\\pretrained\\emonet_8.pth\"))  # Adjust path if needed\n",
    "model = model.to(device)\n",
    "\n",
    "print(device)"
   ]
  },
  {
   "cell_type": "code",
   "execution_count": 15,
   "id": "3af423a9",
   "metadata": {},
   "outputs": [
    {
     "data": {
      "text/plain": [
       "'for param in model.parameters():\\n    param.requires_grad = False\\n\\nfor param in model.emo_fc_2.parameters():\\n    param.requires_grad = True'"
      ]
     },
     "execution_count": 15,
     "metadata": {},
     "output_type": "execute_result"
    }
   ],
   "source": [
    "\"\"\"for param in model.parameters():\n",
    "    param.requires_grad = False\n",
    "\n",
    "for param in model.emo_fc_2.parameters():\n",
    "    param.requires_grad = True\"\"\""
   ]
  },
  {
   "cell_type": "code",
   "execution_count": 29,
   "id": "01cc217e",
   "metadata": {},
   "outputs": [],
   "source": [
    "for name, param in model.named_parameters():\n",
    "    if \"emo_fc_2\" in name or \"emo_net_2\" in name or \"m1\" in name:\n",
    "        param.requires_grad = True\n",
    "    else:\n",
    "        param.requires_grad = False"
   ]
  },
  {
   "cell_type": "code",
   "execution_count": 30,
   "id": "93c0451c",
   "metadata": {},
   "outputs": [],
   "source": [
    "optimizer = torch.optim.SGD(\n",
    "    filter(lambda p: p.requires_grad, model.parameters()), \n",
    "    lr=0.001, \n",
    ")\n",
    "criterion = nn.CrossEntropyLoss()"
   ]
  },
  {
   "cell_type": "code",
   "execution_count": 18,
   "id": "e19be5f8",
   "metadata": {},
   "outputs": [
    {
     "data": {
      "text/plain": [
       "'import time\\n\\nstart_time = time.time()\\nnum_epochs = 20\\ntraining_dict={}\\ntraining_dict[\"epochs\"]=num_epochs\\nloss_list=[]\\naccuracy_list=[]\\n\\nfor epoch in range(num_epochs):\\n    model.train() \\n    running_loss = 0.0\\n    correct, total = 0, 0\\n    \\n    for images, labels in train_loader:\\n        images, labels = images.to(device), labels.to(device)\\n\\n        optimizer.zero_grad() \\n        outputs = model(images)\\n        selected_logits = outputs[\"expression\"]\\n        loss = criterion(selected_logits, labels)\\n        loss.backward() \\n        optimizer.step()\\n        \\n        running_loss += loss.item()\\n        _, predicted = torch.max(selected_logits, 1)\\n        total += labels.size(0)\\n        correct += (predicted == labels).sum().item()\\n        loss_list.append(loss)\\n        accuracy_list.append(round(100 * (correct / total), 2))\\n\\n    print(f\"Epoch [{epoch+1}/{num_epochs}], Loss: {running_loss/len(train_loader):.4f}, Accuracy: {100 * correct / total:.2f}%\")\\n\\nend_time = time.time()\\nelapsed_time = end_time - start_time\\ntraining_dict[\"elapsed_time\"]=elapsed_time\\ntraining_dict[\"loss\"]=loss_list\\ntraining_dict[\"accuracy\"]=accuracy_list\\n\\nprint(f\"Execution Time: {elapsed_time:.4f} seconds\")\\ntorch.save(model.state_dict(), \"expw_finetuned_emonet_20_epochs.pth\")\\nprint(\"Model saved!\")'"
      ]
     },
     "execution_count": 18,
     "metadata": {},
     "output_type": "execute_result"
    }
   ],
   "source": [
    "\"\"\"import time\n",
    "\n",
    "start_time = time.time()\n",
    "num_epochs = 20\n",
    "training_dict={}\n",
    "training_dict[\"epochs\"]=num_epochs\n",
    "loss_list=[]\n",
    "accuracy_list=[]\n",
    "\n",
    "for epoch in range(num_epochs):\n",
    "    model.train() \n",
    "    running_loss = 0.0\n",
    "    correct, total = 0, 0\n",
    "    \n",
    "    for images, labels in train_loader:\n",
    "        images, labels = images.to(device), labels.to(device)\n",
    "\n",
    "        optimizer.zero_grad() \n",
    "        outputs = model(images)\n",
    "        selected_logits = outputs[\"expression\"]\n",
    "        loss = criterion(selected_logits, labels)\n",
    "        loss.backward() \n",
    "        optimizer.step()\n",
    "        \n",
    "        running_loss += loss.item()\n",
    "        _, predicted = torch.max(selected_logits, 1)\n",
    "        total += labels.size(0)\n",
    "        correct += (predicted == labels).sum().item()\n",
    "        loss_list.append(loss)\n",
    "        accuracy_list.append(round(100 * (correct / total), 2))\n",
    "\n",
    "    print(f\"Epoch [{epoch+1}/{num_epochs}], Loss: {running_loss/len(train_loader):.4f}, Accuracy: {100 * correct / total:.2f}%\")\n",
    "\n",
    "end_time = time.time()\n",
    "elapsed_time = end_time - start_time\n",
    "training_dict[\"elapsed_time\"]=elapsed_time\n",
    "training_dict[\"loss\"]=loss_list\n",
    "training_dict[\"accuracy\"]=accuracy_list\n",
    "\n",
    "print(f\"Execution Time: {elapsed_time:.4f} seconds\")\n",
    "torch.save(model.state_dict(), \"expw_finetuned_emonet_20_epochs.pth\")\n",
    "print(\"Model saved!\")\"\"\""
   ]
  },
  {
   "cell_type": "code",
   "execution_count": 19,
   "id": "87b2d6c0",
   "metadata": {},
   "outputs": [
    {
     "data": {
      "text/plain": [
       "'import time\\n\\nstart = time.time()\\nfor i, (img, label, _, _, _) in enumerate(train_loader):\\n    if i >= 10:\\n        break\\nprint(f\"Time to load 10 batches: {time.time() - start:.2f} seconds\")'"
      ]
     },
     "execution_count": 19,
     "metadata": {},
     "output_type": "execute_result"
    }
   ],
   "source": [
    "\"\"\"import time\n",
    "\n",
    "start = time.time()\n",
    "for i, (img, label, _, _, _) in enumerate(train_loader):\n",
    "    if i >= 10:\n",
    "        break\n",
    "print(f\"Time to load 10 batches: {time.time() - start:.2f} seconds\")\"\"\""
   ]
  },
  {
   "cell_type": "code",
   "execution_count": null,
   "id": "63b63a49",
   "metadata": {},
   "outputs": [
    {
     "name": "stderr",
     "output_type": "stream",
     "text": [
      "Epoch 1/50: 100%|██████████| 220/220 [02:56<00:00,  1.25it/s, acc=22.5, loss=7.22]\n"
     ]
    },
    {
     "name": "stdout",
     "output_type": "stream",
     "text": [
      "Epoch [1/50] ➤ Loss: 8.0786 | Accuracy: 22.55%\n"
     ]
    },
    {
     "name": "stderr",
     "output_type": "stream",
     "text": [
      "Epoch 2/50: 100%|██████████| 220/220 [02:17<00:00,  1.60it/s, acc=28.5, loss=5.3] \n"
     ]
    },
    {
     "name": "stdout",
     "output_type": "stream",
     "text": [
      "Epoch [2/50] ➤ Loss: 5.3885 | Accuracy: 28.46%\n"
     ]
    },
    {
     "name": "stderr",
     "output_type": "stream",
     "text": [
      "Epoch 3/50: 100%|██████████| 220/220 [02:18<00:00,  1.59it/s, acc=33.4, loss=4.09]\n"
     ]
    },
    {
     "name": "stdout",
     "output_type": "stream",
     "text": [
      "Epoch [3/50] ➤ Loss: 3.9589 | Accuracy: 33.38%\n"
     ]
    },
    {
     "name": "stderr",
     "output_type": "stream",
     "text": [
      "Epoch 4/50: 100%|██████████| 220/220 [02:19<00:00,  1.58it/s, acc=37.8, loss=2.64]\n"
     ]
    },
    {
     "name": "stdout",
     "output_type": "stream",
     "text": [
      "Epoch [4/50] ➤ Loss: 3.1161 | Accuracy: 37.81%\n"
     ]
    },
    {
     "name": "stderr",
     "output_type": "stream",
     "text": [
      "Epoch 5/50: 100%|██████████| 220/220 [02:18<00:00,  1.58it/s, acc=41.4, loss=3.17]\n"
     ]
    },
    {
     "name": "stdout",
     "output_type": "stream",
     "text": [
      "Epoch [5/50] ➤ Loss: 2.6059 | Accuracy: 41.44%\n"
     ]
    },
    {
     "name": "stderr",
     "output_type": "stream",
     "text": [
      "Epoch 6/50: 100%|██████████| 220/220 [02:19<00:00,  1.58it/s, acc=43.8, loss=2.49]\n"
     ]
    },
    {
     "name": "stdout",
     "output_type": "stream",
     "text": [
      "Epoch [6/50] ➤ Loss: 2.2658 | Accuracy: 43.79%\n"
     ]
    },
    {
     "name": "stderr",
     "output_type": "stream",
     "text": [
      "Epoch 7/50: 100%|██████████| 220/220 [02:12<00:00,  1.66it/s, acc=46, loss=1.73]   \n"
     ]
    },
    {
     "name": "stdout",
     "output_type": "stream",
     "text": [
      "Epoch [7/50] ➤ Loss: 2.0658 | Accuracy: 46.04%\n"
     ]
    },
    {
     "name": "stderr",
     "output_type": "stream",
     "text": [
      "Epoch 8/50: 100%|██████████| 220/220 [02:13<00:00,  1.65it/s, acc=47.6, loss=2.02] \n"
     ]
    },
    {
     "name": "stdout",
     "output_type": "stream",
     "text": [
      "Epoch [8/50] ➤ Loss: 1.9127 | Accuracy: 47.59%\n"
     ]
    },
    {
     "name": "stderr",
     "output_type": "stream",
     "text": [
      "Epoch 9/50: 100%|██████████| 220/220 [02:19<00:00,  1.57it/s, acc=48.8, loss=1.11]\n"
     ]
    },
    {
     "name": "stdout",
     "output_type": "stream",
     "text": [
      "Epoch [9/50] ➤ Loss: 1.8055 | Accuracy: 48.84%\n"
     ]
    },
    {
     "name": "stderr",
     "output_type": "stream",
     "text": [
      "Epoch 10/50: 100%|██████████| 220/220 [02:20<00:00,  1.56it/s, acc=49.8, loss=1.23] \n"
     ]
    },
    {
     "name": "stdout",
     "output_type": "stream",
     "text": [
      "Epoch [10/50] ➤ Loss: 1.7185 | Accuracy: 49.79%\n"
     ]
    },
    {
     "name": "stderr",
     "output_type": "stream",
     "text": [
      "Epoch 11/50: 100%|██████████| 220/220 [02:20<00:00,  1.57it/s, acc=50.6, loss=2]    \n"
     ]
    },
    {
     "name": "stdout",
     "output_type": "stream",
     "text": [
      "Epoch [11/50] ➤ Loss: 1.6344 | Accuracy: 50.56%\n"
     ]
    },
    {
     "name": "stderr",
     "output_type": "stream",
     "text": [
      "Epoch 12/50: 100%|██████████| 220/220 [02:22<00:00,  1.54it/s, acc=51.3, loss=1.06] \n"
     ]
    },
    {
     "name": "stdout",
     "output_type": "stream",
     "text": [
      "Epoch [12/50] ➤ Loss: 1.5811 | Accuracy: 51.32%\n"
     ]
    },
    {
     "name": "stderr",
     "output_type": "stream",
     "text": [
      "Epoch 13/50: 100%|██████████| 220/220 [02:21<00:00,  1.56it/s, acc=52.1, loss=2.03] \n"
     ]
    },
    {
     "name": "stdout",
     "output_type": "stream",
     "text": [
      "Epoch [13/50] ➤ Loss: 1.5455 | Accuracy: 52.14%\n"
     ]
    },
    {
     "name": "stderr",
     "output_type": "stream",
     "text": [
      "Epoch 14/50: 100%|██████████| 220/220 [02:20<00:00,  1.57it/s, acc=52.6, loss=1.33] \n"
     ]
    },
    {
     "name": "stdout",
     "output_type": "stream",
     "text": [
      "Epoch [14/50] ➤ Loss: 1.4969 | Accuracy: 52.57%\n"
     ]
    },
    {
     "name": "stderr",
     "output_type": "stream",
     "text": [
      "Epoch 15/50: 100%|██████████| 220/220 [02:24<00:00,  1.52it/s, acc=52.8, loss=1.08] \n"
     ]
    },
    {
     "name": "stdout",
     "output_type": "stream",
     "text": [
      "Epoch [15/50] ➤ Loss: 1.4668 | Accuracy: 52.78%\n"
     ]
    },
    {
     "name": "stderr",
     "output_type": "stream",
     "text": [
      "Epoch 16/50: 100%|██████████| 220/220 [02:22<00:00,  1.54it/s, acc=53.6, loss=0.853]\n"
     ]
    },
    {
     "name": "stdout",
     "output_type": "stream",
     "text": [
      "Epoch [16/50] ➤ Loss: 1.4390 | Accuracy: 53.59%\n"
     ]
    },
    {
     "name": "stderr",
     "output_type": "stream",
     "text": [
      "Epoch 17/50: 100%|██████████| 220/220 [02:21<00:00,  1.55it/s, acc=53.4, loss=0.847]\n"
     ]
    },
    {
     "name": "stdout",
     "output_type": "stream",
     "text": [
      "Epoch [17/50] ➤ Loss: 1.4120 | Accuracy: 53.40%\n"
     ]
    },
    {
     "name": "stderr",
     "output_type": "stream",
     "text": [
      "Epoch 18/50: 100%|██████████| 220/220 [02:19<00:00,  1.57it/s, acc=53.8, loss=1.12] \n"
     ]
    },
    {
     "name": "stdout",
     "output_type": "stream",
     "text": [
      "Epoch [18/50] ➤ Loss: 1.3915 | Accuracy: 53.79%\n"
     ]
    },
    {
     "name": "stderr",
     "output_type": "stream",
     "text": [
      "Epoch 19/50: 100%|██████████| 220/220 [02:22<00:00,  1.54it/s, acc=53.9, loss=1.73] \n"
     ]
    },
    {
     "name": "stdout",
     "output_type": "stream",
     "text": [
      "Epoch [19/50] ➤ Loss: 1.3777 | Accuracy: 53.92%\n"
     ]
    },
    {
     "name": "stderr",
     "output_type": "stream",
     "text": [
      "Epoch 20/50: 100%|██████████| 220/220 [02:20<00:00,  1.56it/s, acc=54.4, loss=1.1]  \n"
     ]
    },
    {
     "name": "stdout",
     "output_type": "stream",
     "text": [
      "Epoch [20/50] ➤ Loss: 1.3601 | Accuracy: 54.41%\n"
     ]
    },
    {
     "name": "stderr",
     "output_type": "stream",
     "text": [
      "Epoch 21/50: 100%|██████████| 220/220 [02:23<00:00,  1.54it/s, acc=54.3, loss=1.68] \n"
     ]
    },
    {
     "name": "stdout",
     "output_type": "stream",
     "text": [
      "Epoch [21/50] ➤ Loss: 1.3535 | Accuracy: 54.28%\n"
     ]
    },
    {
     "name": "stderr",
     "output_type": "stream",
     "text": [
      "Epoch 22/50: 100%|██████████| 220/220 [02:20<00:00,  1.56it/s, acc=54.6, loss=0.892]\n"
     ]
    },
    {
     "name": "stdout",
     "output_type": "stream",
     "text": [
      "Epoch [22/50] ➤ Loss: 1.3360 | Accuracy: 54.56%\n"
     ]
    },
    {
     "name": "stderr",
     "output_type": "stream",
     "text": [
      "Epoch 23/50: 100%|██████████| 220/220 [02:20<00:00,  1.56it/s, acc=54.8, loss=0.937]\n"
     ]
    },
    {
     "name": "stdout",
     "output_type": "stream",
     "text": [
      "Epoch [23/50] ➤ Loss: 1.3263 | Accuracy: 54.79%\n"
     ]
    },
    {
     "name": "stderr",
     "output_type": "stream",
     "text": [
      "Epoch 24/50: 100%|██████████| 220/220 [02:19<00:00,  1.58it/s, acc=54.9, loss=1.12] \n"
     ]
    },
    {
     "name": "stdout",
     "output_type": "stream",
     "text": [
      "Epoch [24/50] ➤ Loss: 1.3130 | Accuracy: 54.89%\n"
     ]
    },
    {
     "name": "stderr",
     "output_type": "stream",
     "text": [
      "Epoch 25/50: 100%|██████████| 220/220 [02:19<00:00,  1.57it/s, acc=54.7, loss=1.25] \n"
     ]
    },
    {
     "name": "stdout",
     "output_type": "stream",
     "text": [
      "Epoch [25/50] ➤ Loss: 1.2997 | Accuracy: 54.73%\n"
     ]
    },
    {
     "name": "stderr",
     "output_type": "stream",
     "text": [
      "Epoch 26/50:  51%|█████▏    | 113/220 [01:13<01:12,  1.47it/s, acc=55.4, loss=1.27]"
     ]
    }
   ],
   "source": [
    "start_time = time.time()\n",
    "num_epochs = 50\n",
    "training_dict = {\n",
    "    \"epochs\": num_epochs,\n",
    "    \"loss\": [],\n",
    "    \"accuracy\": []\n",
    "}\n",
    "\n",
    "for epoch in range(num_epochs):\n",
    "    model.train()\n",
    "    running_loss = 0.0\n",
    "    correct, total = 0, 0\n",
    "    \n",
    "    loop = tqdm(train_loader, desc=f\"Epoch {epoch+1}/{num_epochs}\")\n",
    "\n",
    "    for images, labels, _, _, _ in loop:\n",
    "        images, labels = images.to(device), labels.to(device).long()\n",
    "\n",
    "        optimizer.zero_grad()\n",
    "        outputs = model(images)\n",
    "        selected_logits = outputs[\"expression\"]\n",
    "        loss = criterion(selected_logits, labels)\n",
    "        loss.backward()\n",
    "        optimizer.step()\n",
    "\n",
    "        running_loss += loss.item()\n",
    "        _, predicted = torch.max(selected_logits, 1)\n",
    "        total += labels.size(0)\n",
    "        correct += (predicted == labels).sum().item()\n",
    "        \n",
    "        loop.set_postfix(loss=loss.item(), acc=100. * correct / total)\n",
    "\n",
    "    epoch_loss = running_loss / len(train_loader)\n",
    "    epoch_acc = 100 * correct / total\n",
    "    training_dict[\"loss\"].append(epoch_loss)\n",
    "    training_dict[\"accuracy\"].append(round(epoch_acc, 2))\n",
    "\n",
    "    print(f\"Epoch [{epoch+1}/{num_epochs}] ➤ Loss: {epoch_loss:.4f} | Accuracy: {epoch_acc:.2f}%\")\n",
    "\n",
    "end_time = time.time()\n",
    "training_dict[\"elapsed_time\"] = end_time - start_time\n",
    "print(f\"Total Training Time: {training_dict['elapsed_time'] / 60:.2f} minutes\")\n",
    "\n",
    "torch.save(model.state_dict(), \"expw_finetuned_emonet_50_epochs_3unfreezed.pth\")\n",
    "print(\"Model saved!\")"
   ]
  }
 ],
 "metadata": {
  "kernelspec": {
   "display_name": "Python 3",
   "language": "python",
   "name": "python3"
  },
  "language_info": {
   "codemirror_mode": {
    "name": "ipython",
    "version": 3
   },
   "file_extension": ".py",
   "mimetype": "text/x-python",
   "name": "python",
   "nbconvert_exporter": "python",
   "pygments_lexer": "ipython3",
   "version": "3.10.11"
  }
 },
 "nbformat": 4,
 "nbformat_minor": 5
}
